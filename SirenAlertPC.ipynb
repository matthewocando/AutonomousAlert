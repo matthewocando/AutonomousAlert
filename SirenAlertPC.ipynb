{
  "cells": [
    {
      "cell_type": "code",
      "execution_count": 1,
      "id": "cb26a134-d459-4c54-92cb-b7da14abad70",
      "metadata": {
        "id": "cb26a134-d459-4c54-92cb-b7da14abad70",
        "outputId": "c0126e31-3d44-4386-8f67-2c80355b908c",
        "colab": {
          "base_uri": "https://localhost:8080/"
        }
      },
      "outputs": [
        {
          "output_type": "stream",
          "name": "stdout",
          "text": [
            "\u001b[K     |████████████████████████████████| 720 kB 5.3 MB/s \n",
            "\u001b[K     |████████████████████████████████| 189 kB 25.2 MB/s \n",
            "\u001b[K     |████████████████████████████████| 1.2 MB 41.7 MB/s \n",
            "\u001b[K     |████████████████████████████████| 48 kB 2.9 MB/s \n",
            "\u001b[K     |████████████████████████████████| 55 kB 1.7 MB/s \n",
            "\u001b[K     |████████████████████████████████| 561 kB 43.9 MB/s \n",
            "\u001b[K     |████████████████████████████████| 51 kB 171 kB/s \n",
            "\u001b[K     |████████████████████████████████| 130 kB 39.7 MB/s \n",
            "\u001b[?25h"
          ]
        }
      ],
      "source": [
        "#Run cell when working on colab\n",
        "!pip install -Uqq fastbook"
      ]
    },
    {
      "cell_type": "code",
      "source": [
        "import fastbook\n",
        "fastbook.setup_book()"
      ],
      "metadata": {
        "id": "WSNF4zdhlfoj",
        "outputId": "25f049db-298d-42a7-a652-0e29452c0496",
        "colab": {
          "base_uri": "https://localhost:8080/"
        }
      },
      "id": "WSNF4zdhlfoj",
      "execution_count": 2,
      "outputs": [
        {
          "output_type": "stream",
          "name": "stdout",
          "text": [
            "Mounted at /content/gdrive\n"
          ]
        }
      ]
    },
    {
      "cell_type": "code",
      "source": [
        "from fastai.vision.all import *\n",
        "import matplotlib.pyplot as plt\n",
        "import librosa\n",
        "import librosa.display\n",
        "import os\n",
        "import warnings\n",
        "import PIL"
      ],
      "metadata": {
        "id": "hsyem3MYmwcv"
      },
      "id": "hsyem3MYmwcv",
      "execution_count": 6,
      "outputs": []
    },
    {
      "cell_type": "code",
      "source": [
        "data_path = Path('/content/gdrive/MyDrive/ENEL 400/Data')\n",
        "\n",
        "learn_reloaded = load_learner(Path('/content/gdrive/MyDrive/ENEL 400/Data/Model/specmodel_resnet18.pkl'))\n",
        "learn_reloaded.predict(Path('/content/gdrive/MyDrive/ENEL 400/Data/spec_test_is_ambulance.png'))"
      ],
      "metadata": {
        "id": "q2J-r-6vmEBV",
        "outputId": "380355e5-d451-43e3-89c3-6c41f4dea8f6",
        "colab": {
          "base_uri": "https://localhost:8080/",
          "height": 35
        }
      },
      "id": "q2J-r-6vmEBV",
      "execution_count": 5,
      "outputs": [
        {
          "output_type": "display_data",
          "data": {
            "text/plain": [
              "<IPython.core.display.HTML object>"
            ],
            "text/html": [
              "\n",
              "<style>\n",
              "    /* Turns off some styling */\n",
              "    progress {\n",
              "        /* gets rid of default border in Firefox and Opera. */\n",
              "        border: none;\n",
              "        /* Needs to be in here for Safari polyfill so background images work as expected. */\n",
              "        background-size: auto;\n",
              "    }\n",
              "    .progress-bar-interrupted, .progress-bar-interrupted::-webkit-progress-bar {\n",
              "        background: #F44336;\n",
              "    }\n",
              "</style>\n"
            ]
          },
          "metadata": {}
        },
        {
          "output_type": "display_data",
          "data": {
            "text/plain": [
              "<IPython.core.display.HTML object>"
            ],
            "text/html": [
              ""
            ]
          },
          "metadata": {}
        },
        {
          "output_type": "execute_result",
          "data": {
            "text/plain": [
              "('Ambulance_spec', TensorBase(0), TensorBase([1.0000e+00, 4.6825e-06]))"
            ]
          },
          "metadata": {},
          "execution_count": 5
        }
      ]
    }
  ],
  "metadata": {
    "kernelspec": {
      "display_name": "Python 3 (ipykernel)",
      "language": "python",
      "name": "python3"
    },
    "language_info": {
      "codemirror_mode": {
        "name": "ipython",
        "version": 3
      },
      "file_extension": ".py",
      "mimetype": "text/x-python",
      "name": "python",
      "nbconvert_exporter": "python",
      "pygments_lexer": "ipython3",
      "version": "3.9.7"
    },
    "colab": {
      "name": "SirenAlertPC.ipynb",
      "provenance": []
    }
  },
  "nbformat": 4,
  "nbformat_minor": 5
}